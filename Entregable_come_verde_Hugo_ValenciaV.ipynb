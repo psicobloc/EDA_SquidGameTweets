{
  "nbformat": 4,
  "nbformat_minor": 0,
  "metadata": {
    "colab": {
      "name": "Entregable_come_verde_Hugo_ValenciaV.ipynb",
      "provenance": [],
      "authorship_tag": "ABX9TyPbPFIfLRqH8f3OTE3twLb7",
      "include_colab_link": true
    },
    "kernelspec": {
      "name": "python3",
      "display_name": "Python 3"
    },
    "language_info": {
      "name": "python"
    }
  },
  "cells": [
    {
      "cell_type": "markdown",
      "metadata": {
        "id": "view-in-github",
        "colab_type": "text"
      },
      "source": [
        "<a href=\"https://colab.research.google.com/github/psicobloc/EDA_SquidGameTweets/blob/main/Entregable_come_verde_Hugo_ValenciaV.ipynb\" target=\"_parent\"><img src=\"https://colab.research.google.com/assets/colab-badge.svg\" alt=\"Open In Colab\"/></a>"
      ]
    },
    {
      "cell_type": "markdown",
      "metadata": {
        "id": "_HbnPObWjsVQ"
      },
      "source": [
        "Importar las bibliotecas a utilizar:"
      ]
    },
    {
      "cell_type": "code",
      "metadata": {
        "colab": {
          "base_uri": "https://localhost:8080/"
        },
        "id": "vt4sP795jlfn",
        "outputId": "0c903b61-4669-4edc-bc76-8c3ea7e5078d"
      },
      "source": [
        "import pandas as pd\n",
        "\n",
        "%matplotlib"
      ],
      "execution_count": 1,
      "outputs": [
        {
          "output_type": "stream",
          "name": "stdout",
          "text": [
            "Using matplotlib backend: agg\n"
          ]
        }
      ]
    },
    {
      "cell_type": "markdown",
      "metadata": {
        "id": "nBGdCFVzjrNx"
      },
      "source": [
        "Cargar el dataset a un DataFrame:\n",
        "\n"
      ]
    },
    {
      "cell_type": "code",
      "metadata": {
        "id": "wzXLRmZYkInI"
      },
      "source": [
        "tweets_all = pd.read_csv(\"tweets_v8.csv\")"
      ],
      "execution_count": 2,
      "outputs": []
    },
    {
      "cell_type": "markdown",
      "metadata": {
        "id": "DS6-Yk8PpANh"
      },
      "source": [
        "Visualizar los primeros 3 tweets para darnos una idea de como lucen los datos"
      ]
    },
    {
      "cell_type": "code",
      "metadata": {
        "colab": {
          "base_uri": "https://localhost:8080/",
          "height": 196
        },
        "id": "OeYzzStCm9nj",
        "outputId": "351f365e-444e-463c-ded4-5527af6642d5"
      },
      "source": [
        "tweets_all.head(3)"
      ],
      "execution_count": 3,
      "outputs": [
        {
          "output_type": "execute_result",
          "data": {
            "text/html": [
              "<div>\n",
              "<style scoped>\n",
              "    .dataframe tbody tr th:only-of-type {\n",
              "        vertical-align: middle;\n",
              "    }\n",
              "\n",
              "    .dataframe tbody tr th {\n",
              "        vertical-align: top;\n",
              "    }\n",
              "\n",
              "    .dataframe thead th {\n",
              "        text-align: right;\n",
              "    }\n",
              "</style>\n",
              "<table border=\"1\" class=\"dataframe\">\n",
              "  <thead>\n",
              "    <tr style=\"text-align: right;\">\n",
              "      <th></th>\n",
              "      <th>user_name</th>\n",
              "      <th>user_location</th>\n",
              "      <th>user_description</th>\n",
              "      <th>user_created</th>\n",
              "      <th>user_followers</th>\n",
              "      <th>user_friends</th>\n",
              "      <th>user_favourites</th>\n",
              "      <th>user_verified</th>\n",
              "      <th>date</th>\n",
              "      <th>text</th>\n",
              "      <th>source</th>\n",
              "      <th>is_retweet</th>\n",
              "    </tr>\n",
              "  </thead>\n",
              "  <tbody>\n",
              "    <tr>\n",
              "      <th>0</th>\n",
              "      <td>the _ûndër-ratèd niggáh👊🏾</td>\n",
              "      <td>NaN</td>\n",
              "      <td>@ManUtd die hard❤️❤️💪🏿💪🏿\\n\\n\\nYOLO\\n\\n\\nJ'ai b...</td>\n",
              "      <td>2019-09-06 19:24:57+00:00</td>\n",
              "      <td>581</td>\n",
              "      <td>1035</td>\n",
              "      <td>8922</td>\n",
              "      <td>False</td>\n",
              "      <td>2021-10-06 12:05:38+00:00</td>\n",
              "      <td>When life hits and the same time poverty strik...</td>\n",
              "      <td>Twitter for Android</td>\n",
              "      <td>False</td>\n",
              "    </tr>\n",
              "    <tr>\n",
              "      <th>1</th>\n",
              "      <td>Best uncle on planet earth</td>\n",
              "      <td>NaN</td>\n",
              "      <td>NaN</td>\n",
              "      <td>2013-05-08 19:35:26+00:00</td>\n",
              "      <td>741</td>\n",
              "      <td>730</td>\n",
              "      <td>8432</td>\n",
              "      <td>False</td>\n",
              "      <td>2021-10-06 12:05:22+00:00</td>\n",
              "      <td>That marble episode of #SquidGame  ruined me. 😭😭😭</td>\n",
              "      <td>Twitter for Android</td>\n",
              "      <td>False</td>\n",
              "    </tr>\n",
              "    <tr>\n",
              "      <th>2</th>\n",
              "      <td>marcie</td>\n",
              "      <td>NaN</td>\n",
              "      <td>animal crossing. chicken nuggets. baby yoda. s...</td>\n",
              "      <td>2009-02-21 10:31:30+00:00</td>\n",
              "      <td>562</td>\n",
              "      <td>1197</td>\n",
              "      <td>62732</td>\n",
              "      <td>False</td>\n",
              "      <td>2021-10-06 12:05:22+00:00</td>\n",
              "      <td>#Squidgame time</td>\n",
              "      <td>Twitter Web App</td>\n",
              "      <td>False</td>\n",
              "    </tr>\n",
              "  </tbody>\n",
              "</table>\n",
              "</div>"
            ],
            "text/plain": [
              "                    user_name user_location  ...               source is_retweet\n",
              "0   the _ûndër-ratèd niggáh👊🏾           NaN  ...  Twitter for Android      False\n",
              "1  Best uncle on planet earth           NaN  ...  Twitter for Android      False\n",
              "2                      marcie           NaN  ...      Twitter Web App      False\n",
              "\n",
              "[3 rows x 12 columns]"
            ]
          },
          "metadata": {},
          "execution_count": 3
        }
      ]
    },
    {
      "cell_type": "markdown",
      "metadata": {
        "id": "8JtIgi-8pitJ"
      },
      "source": [
        "Contar los valores faltantes."
      ]
    },
    {
      "cell_type": "code",
      "metadata": {
        "id": "xHn_YeNpnLWa"
      },
      "source": [
        "tweets_all.isnull().sum()\n"
      ],
      "execution_count": null,
      "outputs": []
    },
    {
      "cell_type": "markdown",
      "metadata": {
        "id": "b7Ru93LKqzYK"
      },
      "source": [
        "aquí podemos preguntarnos si, por ejemplo, no nos interesan los tweets que no tienen nombre de usuario, dependiendo de nuestro objetivo, en este caso los eliminaré. Si hubiera instancias donde hace falta el texto del tweet las eliminaríamos pero por suerte no es el caso."
      ]
    },
    {
      "cell_type": "code",
      "metadata": {
        "id": "LNu9dL0BpZKh"
      },
      "source": [
        "tweets_with_usernames = tweets_all.loc[tweets_all.user_name.notnull()] #también podriamos usar la función drop()\n",
        "tweets_with_usernames.isnull().sum() #comprobamos que ya no hay tweets sin usuario"
      ],
      "execution_count": null,
      "outputs": []
    },
    {
      "cell_type": "code",
      "metadata": {
        "id": "Bgdq6mv-wMN2"
      },
      "source": [
        "#tweets_with_usernames.count()"
      ],
      "execution_count": null,
      "outputs": []
    },
    {
      "cell_type": "markdown",
      "metadata": {
        "id": "yYSJVQl0u9a6"
      },
      "source": [
        "Ahora nos interesa saber si hay algún usuario que haya hecho más de 1 tweet, sería razonable pensar que son los más interesados, pueden estar interesados porque les gusta o porque no les gusta, aún no podemos saberlo pero lo descubriremos más adelante"
      ]
    },
    {
      "cell_type": "code",
      "metadata": {
        "id": "OEPfWm8_vszW"
      },
      "source": [
        "tweets_with_usernames.groupby('user_name').count().text >1 # nos da una serie con valores booleanos donde True significa que un mismo usuario hizo más de 1 tweet\n",
        "\n",
        "# Podemos usar esta serie para seleccionar en el dataframe los usuarios que realizaron más de 1 tweet, guardamos esa selección en tweets_count:\n",
        "\n",
        "tweets_count = tweets_with_usernames.groupby('user_name').count().loc[tweets_with_usernames.groupby('user_name').count().text >1] \n",
        "tweets_count = tweets_count.sort_values('text', ascending=False) \n",
        "tweets_count"
      ],
      "execution_count": null,
      "outputs": []
    },
    {
      "cell_type": "markdown",
      "metadata": {
        "id": "A_Cm1LvT5Szv"
      },
      "source": [
        "podríamos considerar estos tweets como prioritarios, si nuestro dataset fuera gigante podemos utilizar esta característica, el ser tweets de usuarios \"más interesados\", como criterio para eliminar los demás con el objetivo de reducir el tamaño del DS y poderlo procesar con menos recursos. Puede ser interesante también comparar las estadísticas de este grupo de usuarios que están más \"engaged\" contra la población completa.\n",
        "Para seleccionar únicamente estos tweets:"
      ]
    },
    {
      "cell_type": "code",
      "metadata": {
        "colab": {
          "base_uri": "https://localhost:8080/",
          "height": 597
        },
        "id": "4wVW-XTsxXr4",
        "outputId": "e483ef5e-9c03-4c72-a45b-c55ed70e8bcd"
      },
      "source": [
        "user_names_multiple_tweets = tweets_count.index #los nombres de los usuarios que realizaron más de 1 tweet\n",
        "tweets_of_multiple_posting_users = tweets_with_usernames.loc[tweets_with_usernames.user_name.isin(user_names_multiple_tweets)] #todos los tweets de usuarios que publicaron multiples veces\n",
        "tweets_of_multiple_posting_users\n"
      ],
      "execution_count": 39,
      "outputs": [
        {
          "output_type": "execute_result",
          "data": {
            "text/html": [
              "<div>\n",
              "<style scoped>\n",
              "    .dataframe tbody tr th:only-of-type {\n",
              "        vertical-align: middle;\n",
              "    }\n",
              "\n",
              "    .dataframe tbody tr th {\n",
              "        vertical-align: top;\n",
              "    }\n",
              "\n",
              "    .dataframe thead th {\n",
              "        text-align: right;\n",
              "    }\n",
              "</style>\n",
              "<table border=\"1\" class=\"dataframe\">\n",
              "  <thead>\n",
              "    <tr style=\"text-align: right;\">\n",
              "      <th></th>\n",
              "      <th>user_name</th>\n",
              "      <th>user_location</th>\n",
              "      <th>user_description</th>\n",
              "      <th>user_created</th>\n",
              "      <th>user_followers</th>\n",
              "      <th>user_friends</th>\n",
              "      <th>user_favourites</th>\n",
              "      <th>user_verified</th>\n",
              "      <th>date</th>\n",
              "      <th>text</th>\n",
              "      <th>source</th>\n",
              "      <th>is_retweet</th>\n",
              "    </tr>\n",
              "  </thead>\n",
              "  <tbody>\n",
              "    <tr>\n",
              "      <th>0</th>\n",
              "      <td>the _ûndër-ratèd niggáh👊🏾</td>\n",
              "      <td>NaN</td>\n",
              "      <td>@ManUtd die hard❤️❤️💪🏿💪🏿\\n\\n\\nYOLO\\n\\n\\nJ'ai b...</td>\n",
              "      <td>2019-09-06 19:24:57+00:00</td>\n",
              "      <td>581</td>\n",
              "      <td>1035</td>\n",
              "      <td>8922</td>\n",
              "      <td>False</td>\n",
              "      <td>2021-10-06 12:05:38+00:00</td>\n",
              "      <td>When life hits and the same time poverty strik...</td>\n",
              "      <td>Twitter for Android</td>\n",
              "      <td>False</td>\n",
              "    </tr>\n",
              "    <tr>\n",
              "      <th>1</th>\n",
              "      <td>Best uncle on planet earth</td>\n",
              "      <td>NaN</td>\n",
              "      <td>NaN</td>\n",
              "      <td>2013-05-08 19:35:26+00:00</td>\n",
              "      <td>741</td>\n",
              "      <td>730</td>\n",
              "      <td>8432</td>\n",
              "      <td>False</td>\n",
              "      <td>2021-10-06 12:05:22+00:00</td>\n",
              "      <td>That marble episode of #SquidGame  ruined me. 😭😭😭</td>\n",
              "      <td>Twitter for Android</td>\n",
              "      <td>False</td>\n",
              "    </tr>\n",
              "    <tr>\n",
              "      <th>2</th>\n",
              "      <td>marcie</td>\n",
              "      <td>NaN</td>\n",
              "      <td>animal crossing. chicken nuggets. baby yoda. s...</td>\n",
              "      <td>2009-02-21 10:31:30+00:00</td>\n",
              "      <td>562</td>\n",
              "      <td>1197</td>\n",
              "      <td>62732</td>\n",
              "      <td>False</td>\n",
              "      <td>2021-10-06 12:05:22+00:00</td>\n",
              "      <td>#Squidgame time</td>\n",
              "      <td>Twitter Web App</td>\n",
              "      <td>False</td>\n",
              "    </tr>\n",
              "    <tr>\n",
              "      <th>4</th>\n",
              "      <td>Laura Reactions</td>\n",
              "      <td>France</td>\n",
              "      <td>I talk and I make reactions videos about shows...</td>\n",
              "      <td>2018-12-19 20:38:28+00:00</td>\n",
              "      <td>330</td>\n",
              "      <td>152</td>\n",
              "      <td>2278</td>\n",
              "      <td>False</td>\n",
              "      <td>2021-10-06 12:05:00+00:00</td>\n",
              "      <td>The two first games, players were killed by th...</td>\n",
              "      <td>Twitter Web App</td>\n",
              "      <td>False</td>\n",
              "    </tr>\n",
              "    <tr>\n",
              "      <th>5</th>\n",
              "      <td>Peyman 🅚🅐🅘</td>\n",
              "      <td>United Kingdom</td>\n",
              "      <td>Official @KardiaChain $KAI Ambassador\\nMarketi...</td>\n",
              "      <td>2018-01-27 12:07:31+00:00</td>\n",
              "      <td>546</td>\n",
              "      <td>318</td>\n",
              "      <td>6265</td>\n",
              "      <td>False</td>\n",
              "      <td>2021-10-06 12:04:54+00:00</td>\n",
              "      <td>$THG\\nGoing to explode to 4B Marketcap very so...</td>\n",
              "      <td>Twitter for Android</td>\n",
              "      <td>False</td>\n",
              "    </tr>\n",
              "    <tr>\n",
              "      <th>...</th>\n",
              "      <td>...</td>\n",
              "      <td>...</td>\n",
              "      <td>...</td>\n",
              "      <td>...</td>\n",
              "      <td>...</td>\n",
              "      <td>...</td>\n",
              "      <td>...</td>\n",
              "      <td>...</td>\n",
              "      <td>...</td>\n",
              "      <td>...</td>\n",
              "      <td>...</td>\n",
              "      <td>...</td>\n",
              "    </tr>\n",
              "    <tr>\n",
              "      <th>80010</th>\n",
              "      <td>Lee</td>\n",
              "      <td>NaN</td>\n",
              "      <td>YOUTUBER📽: Divine Lee | |⭐️ 🙏🏽20K🙏🏽 ⭐️ Above a...</td>\n",
              "      <td>2015-03-13 23:43:50+00:00</td>\n",
              "      <td>219</td>\n",
              "      <td>153</td>\n",
              "      <td>19694</td>\n",
              "      <td>False</td>\n",
              "      <td>2021-10-28 13:46:55+00:00</td>\n",
              "      <td>Red Lights, Green Lights, and Anime | SQUID GA...</td>\n",
              "      <td>Twitter for iPhone</td>\n",
              "      <td>False</td>\n",
              "    </tr>\n",
              "    <tr>\n",
              "      <th>80014</th>\n",
              "      <td>Sale X Low</td>\n",
              "      <td>USA</td>\n",
              "      <td>Sale X Low, the cheapest low price online stor...</td>\n",
              "      <td>2021-04-03 20:49:35+00:00</td>\n",
              "      <td>12</td>\n",
              "      <td>49</td>\n",
              "      <td>7</td>\n",
              "      <td>False</td>\n",
              "      <td>2021-10-28 13:46:26+00:00</td>\n",
              "      <td>Yes Yes Yes\\n\\n@ArianaGrande\\n#Squidgame\\n htt...</td>\n",
              "      <td>SocialRabbit Plugin</td>\n",
              "      <td>False</td>\n",
              "    </tr>\n",
              "    <tr>\n",
              "      <th>80016</th>\n",
              "      <td>Omo K-Pop News</td>\n",
              "      <td>NaN</td>\n",
              "      <td>OMO K-Pop\\nNews and Updates</td>\n",
              "      <td>2021-09-22 12:01:24+00:00</td>\n",
              "      <td>152</td>\n",
              "      <td>807</td>\n",
              "      <td>593</td>\n",
              "      <td>False</td>\n",
              "      <td>2021-10-28 13:45:00+00:00</td>\n",
              "      <td>Back &amp;amp; Forth Between ‘Squid Game’ Creator ...</td>\n",
              "      <td>Twitter Web App</td>\n",
              "      <td>False</td>\n",
              "    </tr>\n",
              "    <tr>\n",
              "      <th>80017</th>\n",
              "      <td>🎃Pumpkin💀Queen 🕸</td>\n",
              "      <td>Halloweentown 🎃</td>\n",
              "      <td>Creator of Stuff | Horror fan | Traveler | Bad...</td>\n",
              "      <td>2009-02-19 17:09:28+00:00</td>\n",
              "      <td>8048</td>\n",
              "      <td>8822</td>\n",
              "      <td>68980</td>\n",
              "      <td>False</td>\n",
              "      <td>2021-10-28 13:44:57+00:00</td>\n",
              "      <td>So what sort of games do you think they'll pla...</td>\n",
              "      <td>Twitter for Android</td>\n",
              "      <td>False</td>\n",
              "    </tr>\n",
              "    <tr>\n",
              "      <th>80018</th>\n",
              "      <td>levi do lay</td>\n",
              "      <td>NaN</td>\n",
              "      <td>NaN</td>\n",
              "      <td>2020-06-17 11:55:56+00:00</td>\n",
              "      <td>16310</td>\n",
              "      <td>14368</td>\n",
              "      <td>108325</td>\n",
              "      <td>False</td>\n",
              "      <td>2021-10-28 13:44:38+00:00</td>\n",
              "      <td>@venancio_taylor @tracklist cala a boca swifte...</td>\n",
              "      <td>Twitter for iPhone</td>\n",
              "      <td>False</td>\n",
              "    </tr>\n",
              "  </tbody>\n",
              "</table>\n",
              "<p>36583 rows × 12 columns</p>\n",
              "</div>"
            ],
            "text/plain": [
              "                        user_name  ... is_retweet\n",
              "0       the _ûndër-ratèd niggáh👊🏾  ...      False\n",
              "1      Best uncle on planet earth  ...      False\n",
              "2                          marcie  ...      False\n",
              "4                 Laura Reactions  ...      False\n",
              "5                      Peyman 🅚🅐🅘  ...      False\n",
              "...                           ...  ...        ...\n",
              "80010                         Lee  ...      False\n",
              "80014                  Sale X Low  ...      False\n",
              "80016              Omo K-Pop News  ...      False\n",
              "80017            🎃Pumpkin💀Queen 🕸  ...      False\n",
              "80018                 levi do lay  ...      False\n",
              "\n",
              "[36583 rows x 12 columns]"
            ]
          },
          "metadata": {},
          "execution_count": 39
        }
      ]
    },
    {
      "cell_type": "code",
      "metadata": {
        "colab": {
          "base_uri": "https://localhost:8080/",
          "height": 293
        },
        "id": "AiZvVDL8zPJu",
        "outputId": "2979fb03-3686-4a3d-c277-3e9636a70fb8"
      },
      "source": [
        "tweets_of_multiple_posting_users.loc[tweets_of_multiple_posting_users.user_name == 'marcie'] # para seleccionar todos los tweets de un usuario en específico, en este caso de 'marcie'"
      ],
      "execution_count": 42,
      "outputs": [
        {
          "output_type": "execute_result",
          "data": {
            "text/html": [
              "<div>\n",
              "<style scoped>\n",
              "    .dataframe tbody tr th:only-of-type {\n",
              "        vertical-align: middle;\n",
              "    }\n",
              "\n",
              "    .dataframe tbody tr th {\n",
              "        vertical-align: top;\n",
              "    }\n",
              "\n",
              "    .dataframe thead th {\n",
              "        text-align: right;\n",
              "    }\n",
              "</style>\n",
              "<table border=\"1\" class=\"dataframe\">\n",
              "  <thead>\n",
              "    <tr style=\"text-align: right;\">\n",
              "      <th></th>\n",
              "      <th>user_name</th>\n",
              "      <th>user_location</th>\n",
              "      <th>user_description</th>\n",
              "      <th>user_created</th>\n",
              "      <th>user_followers</th>\n",
              "      <th>user_friends</th>\n",
              "      <th>user_favourites</th>\n",
              "      <th>user_verified</th>\n",
              "      <th>date</th>\n",
              "      <th>text</th>\n",
              "      <th>source</th>\n",
              "      <th>is_retweet</th>\n",
              "    </tr>\n",
              "  </thead>\n",
              "  <tbody>\n",
              "    <tr>\n",
              "      <th>2</th>\n",
              "      <td>marcie</td>\n",
              "      <td>NaN</td>\n",
              "      <td>animal crossing. chicken nuggets. baby yoda. s...</td>\n",
              "      <td>2009-02-21 10:31:30+00:00</td>\n",
              "      <td>562</td>\n",
              "      <td>1197</td>\n",
              "      <td>62732</td>\n",
              "      <td>False</td>\n",
              "      <td>2021-10-06 12:05:22+00:00</td>\n",
              "      <td>#Squidgame time</td>\n",
              "      <td>Twitter Web App</td>\n",
              "      <td>False</td>\n",
              "    </tr>\n",
              "    <tr>\n",
              "      <th>5590</th>\n",
              "      <td>marcie</td>\n",
              "      <td>NaN</td>\n",
              "      <td>animal crossing. chicken nuggets. baby yoda. s...</td>\n",
              "      <td>2009-02-21 10:31:30+00:00</td>\n",
              "      <td>562</td>\n",
              "      <td>1196</td>\n",
              "      <td>62733</td>\n",
              "      <td>False</td>\n",
              "      <td>2021-10-05 21:39:21+00:00</td>\n",
              "      <td>Back to #SquidGame before everyone has seen it...</td>\n",
              "      <td>Twitter for Android</td>\n",
              "      <td>False</td>\n",
              "    </tr>\n",
              "    <tr>\n",
              "      <th>18502</th>\n",
              "      <td>marcie</td>\n",
              "      <td>NaN</td>\n",
              "      <td>animal crossing. chicken nuggets. baby yoda. s...</td>\n",
              "      <td>2009-02-21 10:31:30+00:00</td>\n",
              "      <td>562</td>\n",
              "      <td>1197</td>\n",
              "      <td>62746</td>\n",
              "      <td>False</td>\n",
              "      <td>2021-10-06 15:51:50+00:00</td>\n",
              "      <td>can you imagine what the job interview was lik...</td>\n",
              "      <td>Twitter Web App</td>\n",
              "      <td>False</td>\n",
              "    </tr>\n",
              "    <tr>\n",
              "      <th>19010</th>\n",
              "      <td>marcie</td>\n",
              "      <td>NaN</td>\n",
              "      <td>animal crossing. chicken nuggets. baby yoda. s...</td>\n",
              "      <td>2009-02-21 10:31:30+00:00</td>\n",
              "      <td>562</td>\n",
              "      <td>1197</td>\n",
              "      <td>62746</td>\n",
              "      <td>False</td>\n",
              "      <td>2021-10-06 14:52:39+00:00</td>\n",
              "      <td>I've lost track of who's who in the bad guy co...</td>\n",
              "      <td>Twitter Web App</td>\n",
              "      <td>False</td>\n",
              "    </tr>\n",
              "    <tr>\n",
              "      <th>19147</th>\n",
              "      <td>marcie</td>\n",
              "      <td>NaN</td>\n",
              "      <td>animal crossing. chicken nuggets. baby yoda. s...</td>\n",
              "      <td>2009-02-21 10:31:30+00:00</td>\n",
              "      <td>562</td>\n",
              "      <td>1197</td>\n",
              "      <td>62746</td>\n",
              "      <td>False</td>\n",
              "      <td>2021-10-06 14:37:31+00:00</td>\n",
              "      <td>I'm ready for this bitch to die. It's possibly...</td>\n",
              "      <td>Twitter Web App</td>\n",
              "      <td>False</td>\n",
              "    </tr>\n",
              "  </tbody>\n",
              "</table>\n",
              "</div>"
            ],
            "text/plain": [
              "      user_name user_location  ...               source is_retweet\n",
              "2        marcie           NaN  ...      Twitter Web App      False\n",
              "5590     marcie           NaN  ...  Twitter for Android      False\n",
              "18502    marcie           NaN  ...      Twitter Web App      False\n",
              "19010    marcie           NaN  ...      Twitter Web App      False\n",
              "19147    marcie           NaN  ...      Twitter Web App      False\n",
              "\n",
              "[5 rows x 12 columns]"
            ]
          },
          "metadata": {},
          "execution_count": 42
        }
      ]
    },
    {
      "cell_type": "code",
      "metadata": {
        "id": "gLfLCIL87FRQ"
      },
      "source": [
        ""
      ],
      "execution_count": null,
      "outputs": []
    }
  ]
}