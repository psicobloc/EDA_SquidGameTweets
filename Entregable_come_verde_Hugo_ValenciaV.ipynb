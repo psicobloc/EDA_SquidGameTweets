{
  "nbformat": 4,
  "nbformat_minor": 0,
  "metadata": {
    "colab": {
      "name": "Entregable_come_verde_Hugo_ValenciaV.ipynb",
      "provenance": [],
      "collapsed_sections": [],
      "authorship_tag": "ABX9TyO4AEFtlXvhRUzTpXSL8EXX",
      "include_colab_link": true
    },
    "kernelspec": {
      "name": "python3",
      "display_name": "Python 3"
    },
    "language_info": {
      "name": "python"
    }
  },
  "cells": [
    {
      "cell_type": "markdown",
      "metadata": {
        "id": "view-in-github",
        "colab_type": "text"
      },
      "source": [
        "<a href=\"https://colab.research.google.com/github/psicobloc/EDA_SquidGameTweets/blob/main/Entregable_come_verde_Hugo_ValenciaV.ipynb\" target=\"_parent\"><img src=\"https://colab.research.google.com/assets/colab-badge.svg\" alt=\"Open In Colab\"/></a>"
      ]
    },
    {
      "cell_type": "markdown",
      "metadata": {
        "id": "_HbnPObWjsVQ"
      },
      "source": [
        "###Importar las bibliotecas a utilizar:"
      ]
    },
    {
      "cell_type": "code",
      "metadata": {
        "id": "vt4sP795jlfn"
      },
      "source": [
        "import pandas as pd\n",
        "import matplotlib.pyplot as plt\n",
        "%matplotlib inline"
      ],
      "execution_count": null,
      "outputs": []
    },
    {
      "cell_type": "markdown",
      "metadata": {
        "id": "nBGdCFVzjrNx"
      },
      "source": [
        "###Cargar el dataset a un DataFrame:\n",
        "\n"
      ]
    },
    {
      "cell_type": "code",
      "metadata": {
        "id": "wzXLRmZYkInI"
      },
      "source": [
        "tweets_all = pd.read_csv(\"tweets_v8.csv\")"
      ],
      "execution_count": null,
      "outputs": []
    },
    {
      "cell_type": "markdown",
      "metadata": {
        "id": "DS6-Yk8PpANh"
      },
      "source": [
        "###Visualizar los primeros 3 tweets para darnos una idea de como lucen los datos"
      ]
    },
    {
      "cell_type": "code",
      "metadata": {
        "id": "OeYzzStCm9nj"
      },
      "source": [
        "tweets_all.head(3)"
      ],
      "execution_count": null,
      "outputs": []
    },
    {
      "cell_type": "markdown",
      "metadata": {
        "id": "4bltbLv0vqCH"
      },
      "source": [
        "####Types de cada atributo:"
      ]
    },
    {
      "cell_type": "code",
      "metadata": {
        "id": "E9ZNyJavvwkj"
      },
      "source": [
        "tweets_all.dtypes"
      ],
      "execution_count": null,
      "outputs": []
    },
    {
      "cell_type": "markdown",
      "metadata": {
        "id": "8JtIgi-8pitJ"
      },
      "source": [
        "####Contar los valores faltantes."
      ]
    },
    {
      "cell_type": "code",
      "metadata": {
        "id": "xHn_YeNpnLWa"
      },
      "source": [
        "tweets_all.isnull().sum()\n"
      ],
      "execution_count": null,
      "outputs": []
    },
    {
      "cell_type": "markdown",
      "metadata": {
        "id": "b7Ru93LKqzYK"
      },
      "source": [
        "###aquí podemos preguntarnos si, por ejemplo, no nos interesan los tweets que no tienen nombre de usuario, dependiendo de nuestro objetivo, en este caso los eliminaré. Si hubiera instancias donde hace falta el texto del tweet las eliminaríamos pero por suerte no es el caso."
      ]
    },
    {
      "cell_type": "code",
      "metadata": {
        "id": "LNu9dL0BpZKh"
      },
      "source": [
        "tweets_with_usernames = tweets_all.loc[tweets_all.user_name.notnull()] #también podriamos usar la función drop()\n",
        "tweets_with_usernames.isnull().sum() #comprobamos que ya no hay tweets sin usuario"
      ],
      "execution_count": null,
      "outputs": []
    },
    {
      "cell_type": "code",
      "metadata": {
        "id": "Bgdq6mv-wMN2"
      },
      "source": [
        "#tweets_with_usernames.count()"
      ],
      "execution_count": null,
      "outputs": []
    },
    {
      "cell_type": "markdown",
      "metadata": {
        "id": "yYSJVQl0u9a6"
      },
      "source": [
        "###Ahora nos interesa saber si hay algún usuario que haya hecho más de 1 tweet, sería razonable pensar que son los más interesados, pueden estar interesados porque les gusta o porque no les gusta, aún no podemos saberlo pero lo descubriremos más adelante"
      ]
    },
    {
      "cell_type": "code",
      "metadata": {
        "id": "OEPfWm8_vszW"
      },
      "source": [
        "tweets_with_usernames.groupby('user_name').count().text >1 # nos da una serie con valores booleanos donde True significa que un mismo usuario hizo más de 1 tweet\n",
        "\n",
        "# Podemos usar esta serie para seleccionar en el dataframe los usuarios que realizaron más de 1 tweet, guardamos esa selección en tweets_count:\n",
        "\n",
        "tweets_count = tweets_with_usernames.groupby('user_name').count().loc[tweets_with_usernames.groupby('user_name').count().text >1] \n",
        "tweets_count = tweets_count.sort_values('text', ascending=False) \n",
        "tweets_count"
      ],
      "execution_count": null,
      "outputs": []
    },
    {
      "cell_type": "markdown",
      "metadata": {
        "id": "A_Cm1LvT5Szv"
      },
      "source": [
        "###podríamos considerar estos tweets como prioritarios, si nuestro dataset fuera gigante podemos utilizar esta característica, el ser tweets de usuarios \"más interesados\", como criterio para eliminar los demás con el objetivo de reducir el tamaño del DS y poderlo procesar con menos recursos. Puede ser interesante también comparar las estadísticas de este grupo de usuarios que están más \"engaged\" contra la población completa.\n",
        "####Para seleccionar únicamente estos tweets:"
      ]
    },
    {
      "cell_type": "code",
      "metadata": {
        "id": "4wVW-XTsxXr4"
      },
      "source": [
        "user_names_multiple_tweets = tweets_count.index #los nombres de los usuarios que realizaron más de 1 tweet\n",
        "tweets_of_multiple_posting_users = tweets_with_usernames.loc[tweets_with_usernames.user_name.isin(user_names_multiple_tweets)] #todos los tweets de usuarios que publicaron multiples veces\n",
        "tweets_of_multiple_posting_users\n"
      ],
      "execution_count": null,
      "outputs": []
    },
    {
      "cell_type": "code",
      "metadata": {
        "id": "AiZvVDL8zPJu"
      },
      "source": [
        "tweets_of_multiple_posting_users.loc[tweets_of_multiple_posting_users.user_name == 'marcie'] # para seleccionar todos los tweets de un usuario en específico, en este caso de 'marcie'"
      ],
      "execution_count": null,
      "outputs": []
    },
    {
      "cell_type": "markdown",
      "metadata": {
        "id": "VadmwPqYu2yF"
      },
      "source": [
        "###También nos pueden interesar especialmente los tweets de cuentas verificadas, para seleccionarlos:"
      ]
    },
    {
      "cell_type": "code",
      "metadata": {
        "id": "gLfLCIL87FRQ"
      },
      "source": [
        "tweets_verificados = tweets_with_usernames.loc[tweets_with_usernames.user_verified == True]\n",
        "tweets_verificados"
      ],
      "execution_count": null,
      "outputs": []
    },
    {
      "cell_type": "code",
      "metadata": {
        "id": "6ASilafc0O0c"
      },
      "source": [
        "#tweets_with_usernames.user_verified.value_counts().plot(kind='pie', title=\"Tipos de usuarios\")\n"
      ],
      "execution_count": null,
      "outputs": []
    },
    {
      "cell_type": "markdown",
      "metadata": {
        "id": "5DWfc0fAwSI3"
      },
      "source": [
        "### Podemos considerar útil conocer los dispositivos de origen de los tweets, así como la ubicación de las personas que tweetean, dividido en los segmentos que ya hemos preparado"
      ]
    },
    {
      "cell_type": "code",
      "metadata": {
        "id": "mFnmrAY0Ddow"
      },
      "source": [
        "figura, axis = plt.subplots(nrows=1, ncols=2, figsize=[13, 5])\n",
        "figura.suptitle('Todos los usuarios', fontsize=20)\n",
        "axis[0].pie(tweets_with_usernames.source.value_counts().iloc[:6], labels= tweets_with_usernames.source.value_counts().iloc[:6].index)\n",
        "axis[0].set_title('Origen', fontsize=14)\n",
        "axis[1].pie(tweets_with_usernames.user_location.value_counts().dropna().iloc[:10], labels=tweets_with_usernames.user_location.value_counts().dropna().iloc[:10].index)\n",
        "axis[1].set_title('Ubicación', fontsize=14)"
      ],
      "execution_count": null,
      "outputs": []
    },
    {
      "cell_type": "code",
      "metadata": {
        "id": "KiS06AR5vJgZ"
      },
      "source": [
        "\n",
        "\n",
        "figura, axis = plt.subplots(nrows=1, ncols=2, figsize=[15, 5])\n",
        "figura.suptitle('Usuarios que postearon más de 1 tweet', fontsize=20)\n",
        "axis[0].pie(tweets_of_multiple_posting_users.source.value_counts().iloc[:6], labels= tweets_of_multiple_posting_users.source.value_counts().iloc[:6].index)\n",
        "axis[0].set_title('Origen', fontsize=14)\n",
        "axis[1].pie(tweets_of_multiple_posting_users.user_location.value_counts().dropna().iloc[:10], labels=tweets_of_multiple_posting_users.user_location.value_counts().dropna().iloc[:10].index)\n",
        "axis[1].set_title('Ubicación', fontsize=14)"
      ],
      "execution_count": null,
      "outputs": []
    },
    {
      "cell_type": "code",
      "metadata": {
        "id": "mQ1H7IhBD3Fu"
      },
      "source": [
        "figura, axis = plt.subplots(nrows=1, ncols=2, figsize=[13, 5])\n",
        "figura.suptitle('Usuarios Verificados', fontsize=20)\n",
        "axis[0].pie(tweets_verificados.source.value_counts().iloc[:6], labels= tweets_verificados.source.value_counts().iloc[:6].index)\n",
        "axis[0].set_title('Origen', fontsize=14)\n",
        "axis[1].pie(tweets_verificados.user_location.value_counts().dropna().iloc[:10], labels=tweets_verificados.user_location.value_counts().dropna().iloc[:10].index)\n",
        "axis[1].set_title('Ubicación', fontsize=14)"
      ],
      "execution_count": null,
      "outputs": []
    },
    {
      "cell_type": "code",
      "metadata": {
        "id": "kCAycWrkEdGT"
      },
      "source": [
        "#tweets_with_usernames.source.value_counts().iloc[:6].plot(kind='pie', title=\"Origen tweets población completa\")\n",
        "#tweets_with_usernames.loc[:,['source', 'user_location']]\n",
        "#.apply(lambda x: x.value_counts())\n",
        "#.value_counts().iloc[:5]#.plot.pie(y='source', subplots=True, figsize=(11, 6))\n",
        "#tweets_with_usernames.groupby(['source', 'user_location']).value_counts()\n",
        "#tweets_with_usernames[['source', 'user_location']].apply(pd.Series.value_counts)\n",
        "\n",
        "\n",
        "#tweets_of_multiple_posting_users.source.value_counts().iloc[:6].plot(kind='pie', title=\"Origen tweets de posteadores múltiples\")\n",
        "#tweets_of_multiple_posting_users.user_location.value_counts().dropna().iloc[:10].plot(kind='pie', title='Ubicación posteadores múltiples')"
      ],
      "execution_count": null,
      "outputs": []
    },
    {
      "cell_type": "code",
      "metadata": {
        "id": "4Gw6Ky_nz2bR"
      },
      "source": [
        ""
      ],
      "execution_count": null,
      "outputs": []
    }
  ]
}